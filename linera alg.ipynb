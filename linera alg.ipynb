{
 "cells": [
  {
   "cell_type": "markdown",
   "id": "061ef687-cc5c-4613-9d63-48de84819659",
   "metadata": {},
   "source": [
    "# linear algebra for machine learning"
   ]
  },
  {
   "cell_type": "markdown",
   "id": "8f3a2ecf-485d-40eb-9b4b-1c4ab7ab6ed5",
   "metadata": {},
   "source": [
    "### vectors and dot products"
   ]
  },
  {
   "cell_type": "code",
   "execution_count": 1,
   "id": "2743d93d-33cb-43dd-9be8-b3a626341128",
   "metadata": {},
   "outputs": [],
   "source": [
    "import numpy as np"
   ]
  },
  {
   "cell_type": "code",
   "execution_count": 2,
   "id": "4ed62402-e29d-4795-bce5-5723775e1bba",
   "metadata": {},
   "outputs": [
    {
     "name": "stdout",
     "output_type": "stream",
     "text": [
      "[1 2 3] [4 5 6]\n"
     ]
    }
   ],
   "source": [
    "array1=np.array([1,2,3])\n",
    "array2=np.array([4,5,6])\n",
    "print(array1,array2)\n"
   ]
  },
  {
   "cell_type": "markdown",
   "id": "40b384f7-db00-4243-a5b0-3d07a49bab92",
   "metadata": {},
   "source": [
    "### dot product"
   ]
  },
  {
   "cell_type": "code",
   "execution_count": 3,
   "id": "67bfdc6b-170e-4c93-b60f-49c33b5d5764",
   "metadata": {},
   "outputs": [
    {
     "name": "stdout",
     "output_type": "stream",
     "text": [
      "32\n"
     ]
    }
   ],
   "source": [
    "print(np.dot(array1,array2))"
   ]
  },
  {
   "cell_type": "markdown",
   "id": "48e254a2-06c2-4875-881d-28c23c4a74fb",
   "metadata": {},
   "source": [
    "### matrices and operation(2D)"
   ]
  },
  {
   "cell_type": "code",
   "execution_count": 4,
   "id": "648054a4-5038-43f8-8864-9de7102e45bb",
   "metadata": {},
   "outputs": [
    {
     "name": "stdout",
     "output_type": "stream",
     "text": [
      "[[1 2]\n",
      " [3 4]] \n",
      " [[5 6]\n",
      " [7 8]]\n"
     ]
    }
   ],
   "source": [
    "A=np.array([[1,2],[3,4]])\n",
    "B=np.array([[5,6],[7,8]])\n",
    "print(A,\"\\n\",B)"
   ]
  },
  {
   "cell_type": "markdown",
   "id": "97776b27-1762-4ed4-aefc-47a07a4f587e",
   "metadata": {},
   "source": [
    "### addition and substraction"
   ]
  },
  {
   "cell_type": "code",
   "execution_count": 5,
   "id": "eaf083c5-397f-40c5-b71e-28694ca72833",
   "metadata": {},
   "outputs": [
    {
     "name": "stdout",
     "output_type": "stream",
     "text": [
      "A+B \n",
      " [[ 6  8]\n",
      " [10 12]]\n"
     ]
    }
   ],
   "source": [
    "print(\"A+B \\n\",A+B)"
   ]
  },
  {
   "cell_type": "code",
   "execution_count": 6,
   "id": "4727ff7f-8ba3-46f8-b595-5fb5b6de6e8d",
   "metadata": {},
   "outputs": [
    {
     "name": "stdout",
     "output_type": "stream",
     "text": [
      "A-B \n",
      " [[-4 -4]\n",
      " [-4 -4]]\n"
     ]
    }
   ],
   "source": [
    "print(\"A-B \\n\",A-B)\n"
   ]
  },
  {
   "cell_type": "markdown",
   "id": "2370121e-a0ec-4c0c-965c-1512c8a21166",
   "metadata": {},
   "source": [
    "### multilpication and division elementwise"
   ]
  },
  {
   "cell_type": "code",
   "execution_count": 7,
   "id": "50e678c1-b0fd-47d9-9c55-909fb5038abf",
   "metadata": {},
   "outputs": [
    {
     "name": "stdout",
     "output_type": "stream",
     "text": [
      "[[1 2]\n",
      " [3 4]] \n",
      " [[5 6]\n",
      " [7 8]]\n",
      "A*B \n",
      " [[ 5 12]\n",
      " [21 32]]\n"
     ]
    }
   ],
   "source": [
    "print(A,\"\\n\",B)\n",
    "print(\"A*B \\n\",A*B)"
   ]
  },
  {
   "cell_type": "code",
   "execution_count": 8,
   "id": "aac1c26a-deed-4154-8184-593174ac745a",
   "metadata": {},
   "outputs": [
    {
     "name": "stdout",
     "output_type": "stream",
     "text": [
      "[[1 2]\n",
      " [3 4]] \n",
      " [[5 6]\n",
      " [7 8]]\n",
      "A/B \n",
      " [[0.2        0.33333333]\n",
      " [0.42857143 0.5       ]]\n"
     ]
    }
   ],
   "source": [
    "print(A,\"\\n\",B)\n",
    "\n",
    "print(\"A/B \\n\",A/B)"
   ]
  },
  {
   "cell_type": "code",
   "execution_count": 9,
   "id": "222147f1-9c67-4e59-b149-d8024874e809",
   "metadata": {},
   "outputs": [
    {
     "name": "stdout",
     "output_type": "stream",
     "text": [
      "[[1 2 3]\n",
      " [4 5 6]\n",
      " [7 8 9]] \n",
      " [[ 7  8  4]\n",
      " [ 9 10  3]\n",
      " [11 12 13]]\n"
     ]
    }
   ],
   "source": [
    "c=np.array([[1,2,3],[4,5,6],[7,8,9]])\n",
    "d=np.array([[7,8,4],[9,10,3],[11,12,13]])\n",
    "print(c,\"\\n\",d)"
   ]
  },
  {
   "cell_type": "code",
   "execution_count": 10,
   "id": "d615f463-9085-4598-8633-cb0278628706",
   "metadata": {},
   "outputs": [
    {
     "name": "stdout",
     "output_type": "stream",
     "text": [
      "[[ 8 10  7]\n",
      " [13 15  9]\n",
      " [18 20 22]]\n"
     ]
    }
   ],
   "source": [
    "print(c+d)"
   ]
  },
  {
   "cell_type": "code",
   "execution_count": 11,
   "id": "557da626-575c-48a9-a2bc-f3bda5b043d3",
   "metadata": {},
   "outputs": [
    {
     "name": "stdout",
     "output_type": "stream",
     "text": [
      "[[-6 -6 -1]\n",
      " [-5 -5  3]\n",
      " [-4 -4 -4]]\n"
     ]
    }
   ],
   "source": [
    "print(c-d)"
   ]
  },
  {
   "cell_type": "code",
   "execution_count": 12,
   "id": "574b202d-0327-4316-90fc-6b597e3d7ab9",
   "metadata": {},
   "outputs": [
    {
     "name": "stdout",
     "output_type": "stream",
     "text": [
      "[[  7  16  12]\n",
      " [ 36  50  18]\n",
      " [ 77  96 117]]\n"
     ]
    }
   ],
   "source": [
    "print(c*d)"
   ]
  },
  {
   "cell_type": "code",
   "execution_count": 13,
   "id": "20ad3bcf-4953-4574-a688-9a6c8ef995d3",
   "metadata": {},
   "outputs": [
    {
     "name": "stdout",
     "output_type": "stream",
     "text": [
      "[[0.14285714 0.25       0.75      ]\n",
      " [0.44444444 0.5        2.        ]\n",
      " [0.63636364 0.66666667 0.69230769]]\n"
     ]
    }
   ],
   "source": [
    "print(c/d)"
   ]
  },
  {
   "cell_type": "markdown",
   "id": "df029c92-1682-4232-b6ab-c05aed2e3f2e",
   "metadata": {},
   "source": [
    "### dot product of 2d array"
   ]
  },
  {
   "cell_type": "code",
   "execution_count": 14,
   "id": "493984d4-7283-4ce6-94d2-88532787c36b",
   "metadata": {},
   "outputs": [
    {
     "name": "stdout",
     "output_type": "stream",
     "text": [
      "[[19 22]\n",
      " [43 50]]\n"
     ]
    }
   ],
   "source": [
    "print(A@B)"
   ]
  },
  {
   "cell_type": "code",
   "execution_count": 15,
   "id": "19202282-3895-4213-aa84-415b60b61c8b",
   "metadata": {},
   "outputs": [
    {
     "name": "stdout",
     "output_type": "stream",
     "text": [
      "32\n"
     ]
    }
   ],
   "source": [
    "print(array1@array2)"
   ]
  },
  {
   "cell_type": "code",
   "execution_count": 16,
   "id": "8da9f169-bdd6-44fd-a706-554f093b5009",
   "metadata": {},
   "outputs": [
    {
     "name": "stdout",
     "output_type": "stream",
     "text": [
      "[[1 2 3]\n",
      " [4 5 6]\n",
      " [7 8 9]]\n",
      "[[ 7  8  4]\n",
      " [ 9 10  3]\n",
      " [11 12 13]]\n"
     ]
    }
   ],
   "source": [
    "print(c)\n",
    "print(d)"
   ]
  },
  {
   "cell_type": "code",
   "execution_count": 17,
   "id": "9db18b9b-6d1b-4c74-bb5f-1a638f290790",
   "metadata": {},
   "outputs": [
    {
     "name": "stdout",
     "output_type": "stream",
     "text": [
      "[[ 58  64  49]\n",
      " [139 154 109]\n",
      " [220 244 169]]\n"
     ]
    }
   ],
   "source": [
    "print(c@d)"
   ]
  },
  {
   "cell_type": "code",
   "execution_count": 18,
   "id": "6311803d-d557-4971-9a64-4f276c2db7a3",
   "metadata": {},
   "outputs": [
    {
     "name": "stdout",
     "output_type": "stream",
     "text": [
      "[[1 2 3]\n",
      " [4 5 6]\n",
      " [7 8 9]]\n"
     ]
    }
   ],
   "source": [
    "print(c)"
   ]
  },
  {
   "cell_type": "markdown",
   "id": "72e72f2e-005c-4116-b431-edc5af857d1a",
   "metadata": {},
   "source": [
    "### transpose of matrix"
   ]
  },
  {
   "cell_type": "code",
   "execution_count": 19,
   "id": "2b7ff48e-551c-40df-945a-7b2c789e4508",
   "metadata": {},
   "outputs": [
    {
     "name": "stdout",
     "output_type": "stream",
     "text": [
      "[[1 2]\n",
      " [3 4]]\n"
     ]
    }
   ],
   "source": [
    "print(A)"
   ]
  },
  {
   "cell_type": "code",
   "execution_count": 20,
   "id": "47b46ccc-2af0-4255-afb5-59a58232a9e3",
   "metadata": {},
   "outputs": [
    {
     "name": "stdout",
     "output_type": "stream",
     "text": [
      "[[1 3]\n",
      " [2 4]]\n"
     ]
    }
   ],
   "source": [
    "print(A.T)"
   ]
  },
  {
   "cell_type": "code",
   "execution_count": 21,
   "id": "10714870-d4bd-4467-ba95-1c6a28f8f7e7",
   "metadata": {},
   "outputs": [
    {
     "name": "stdout",
     "output_type": "stream",
     "text": [
      "[[1 4 7]\n",
      " [2 5 8]\n",
      " [3 6 9]]\n"
     ]
    }
   ],
   "source": [
    "print(c.T)"
   ]
  },
  {
   "cell_type": "markdown",
   "id": "5edd3b94-8c3c-474c-aa07-c6c91a97eed9",
   "metadata": {},
   "source": [
    "### identity matrix"
   ]
  },
  {
   "cell_type": "code",
   "execution_count": 22,
   "id": "bd94bffb-0165-4820-9d73-8b6373bbf14f",
   "metadata": {},
   "outputs": [
    {
     "name": "stdout",
     "output_type": "stream",
     "text": [
      "[[1. 0. 0.]\n",
      " [0. 1. 0.]\n",
      " [0. 0. 1.]]\n"
     ]
    }
   ],
   "source": [
    "I=np.eye(3)\n",
    "print(I)"
   ]
  },
  {
   "cell_type": "markdown",
   "id": "191cc810-3d37-4c02-a1c9-48f965b13ca2",
   "metadata": {},
   "source": [
    "### inverse of matrix 2 by 2"
   ]
  },
  {
   "cell_type": "code",
   "execution_count": 23,
   "id": "43eeafd8-6ca2-47c9-8b19-d7d66867652d",
   "metadata": {},
   "outputs": [
    {
     "name": "stdout",
     "output_type": "stream",
     "text": [
      "[[1 2]\n",
      " [3 4]]\n",
      "[[-2.   1. ]\n",
      " [ 1.5 -0.5]]\n"
     ]
    }
   ],
   "source": [
    "a_inv=np.linalg.inv(A)\n",
    "print(A)\n",
    "print(a_inv)"
   ]
  },
  {
   "cell_type": "code",
   "execution_count": 24,
   "id": "b5403cb1-0fcc-4a35-99b6-a1fed93453a1",
   "metadata": {},
   "outputs": [
    {
     "name": "stdout",
     "output_type": "stream",
     "text": [
      "[[2 3 4]\n",
      " [1 4 3]\n",
      " [2 4 2]]\n"
     ]
    }
   ],
   "source": [
    "F=np.array([[2,3,4],[1,4,3],[2,4,2]])\n",
    "print(F)"
   ]
  },
  {
   "cell_type": "code",
   "execution_count": 25,
   "id": "275e506e-261a-4399-b545-c46c0dbcaff3",
   "metadata": {},
   "outputs": [
    {
     "name": "stdout",
     "output_type": "stream",
     "text": [
      "[[2 3 4]\n",
      " [1 4 3]\n",
      " [2 4 2]]\n",
      "[[ 0.33333333 -0.83333333  0.58333333]\n",
      " [-0.33333333  0.33333333  0.16666667]\n",
      " [ 0.33333333  0.16666667 -0.41666667]]\n"
     ]
    }
   ],
   "source": [
    "print(F)\n",
    "a_inv=np.linalg.inv(F)\n",
    "print(a_inv)"
   ]
  },
  {
   "cell_type": "code",
   "execution_count": 26,
   "id": "277981d3-6991-4f46-a827-cbbe260a2cef",
   "metadata": {},
   "outputs": [
    {
     "name": "stdout",
     "output_type": "stream",
     "text": [
      "[[2 3 4]\n",
      " [1 4 3]\n",
      " [2 4 2]]\n",
      "-12.0\n"
     ]
    }
   ],
   "source": [
    "a_det=np.linalg.det(F)\n",
    "print(F)\n",
    "print(a_det)"
   ]
  },
  {
   "cell_type": "code",
   "execution_count": 27,
   "id": "65e074b0-767a-4124-b811-f0809a760b16",
   "metadata": {},
   "outputs": [
    {
     "name": "stdout",
     "output_type": "stream",
     "text": [
      "[[1 2 3]\n",
      " [4 5 6]\n",
      " [7 8 9]]\n"
     ]
    }
   ],
   "source": [
    "print(c)"
   ]
  },
  {
   "cell_type": "code",
   "execution_count": 28,
   "id": "beec18f4-9ec0-492f-a02c-de784313fd60",
   "metadata": {},
   "outputs": [
    {
     "name": "stdout",
     "output_type": "stream",
     "text": [
      "[[1 2 3]\n",
      " [4 5 6]\n",
      " [7 8 9]]\n",
      "6.66133814775094e-16\n"
     ]
    }
   ],
   "source": [
    "print(c)\n",
    "b1=np.linalg.det(c)\n",
    "print(b1)"
   ]
  },
  {
   "cell_type": "markdown",
   "id": "3b94c909-0ed8-4071-8e17-bc113f403d66",
   "metadata": {},
   "source": [
    "### Eigen values and vectors"
   ]
  },
  {
   "cell_type": "code",
   "execution_count": 29,
   "id": "98d5f770-e62c-489c-ba93-b69b13144cd2",
   "metadata": {},
   "outputs": [
    {
     "name": "stdout",
     "output_type": "stream",
     "text": [
      "[[2 3 4]\n",
      " [1 4 3]\n",
      " [2 4 2]]\n",
      "\n",
      "Eigen values:\n",
      "[ 8.18740177  1.12056692 -1.30796869]\n",
      "\n",
      "Eigen vectors:\n",
      "[[-0.62508549 -0.8680815  -0.61416008]\n",
      " [-0.54770961  0.46949679 -0.29743818]\n",
      " [-0.55613156 -0.16126769  0.73098422]]\n"
     ]
    }
   ],
   "source": [
    "eigenvalues,eigenvectors=np.linalg.eig(F)\n",
    "print(F)\n",
    "print(\"\\nEigen values:\")\n",
    "print(eigenvalues)\n",
    "print(\"\\nEigen vectors:\")\n",
    "print(eigenvectors)"
   ]
  },
  {
   "cell_type": "markdown",
   "id": "01eaca2c-9202-406f-9bf6-aaf45e3ed137",
   "metadata": {},
   "source": [
    "### Determinant of 3 by 3 "
   ]
  },
  {
   "cell_type": "code",
   "execution_count": 30,
   "id": "ae0e7dcf-f765-4e4c-b016-b12e65a9495f",
   "metadata": {},
   "outputs": [
    {
     "name": "stdout",
     "output_type": "stream",
     "text": [
      "[[1 4 7]\n",
      " [2 5 8]\n",
      " [3 6 2]]\n"
     ]
    }
   ],
   "source": [
    "H=np.array([[1,4,7],[2,5,8],[3,6,2]])\n",
    "print(H)"
   ]
  },
  {
   "cell_type": "code",
   "execution_count": 31,
   "id": "97be5293-3617-4085-b3f6-926b54cbde30",
   "metadata": {},
   "outputs": [
    {
     "name": "stdout",
     "output_type": "stream",
     "text": [
      "21.0\n"
     ]
    }
   ],
   "source": [
    "h_det=np.linalg.det(H)\n",
    "print(h_det)"
   ]
  },
  {
   "cell_type": "code",
   "execution_count": null,
   "id": "e3f0e581-0963-4cbf-a011-a12edab1b7bf",
   "metadata": {},
   "outputs": [],
   "source": []
  }
 ],
 "metadata": {
  "kernelspec": {
   "display_name": "Python 3 (ipykernel)",
   "language": "python",
   "name": "python3"
  },
  "language_info": {
   "codemirror_mode": {
    "name": "ipython",
    "version": 3
   },
   "file_extension": ".py",
   "mimetype": "text/x-python",
   "name": "python",
   "nbconvert_exporter": "python",
   "pygments_lexer": "ipython3",
   "version": "3.13.5"
  }
 },
 "nbformat": 4,
 "nbformat_minor": 5
}
