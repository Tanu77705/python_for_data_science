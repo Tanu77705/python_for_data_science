{
 "cells": [
  {
   "cell_type": "code",
   "execution_count": 1,
   "id": "c2cd619f-2319-4955-a8d9-a75ecf7dccec",
   "metadata": {},
   "outputs": [],
   "source": [
    "import pandas as pd\n",
    "import numpy as np"
   ]
  },
  {
   "cell_type": "code",
   "execution_count": 2,
   "id": "0e616bd1-6c04-4a0e-a166-f5a6f3269365",
   "metadata": {},
   "outputs": [
    {
     "name": "stdout",
     "output_type": "stream",
     "text": [
      "0     7\n",
      "1     9\n",
      "2    76\n",
      "3    32\n",
      "4     5\n",
      "dtype: int64\n"
     ]
    }
   ],
   "source": [
    "array=[7,9,76,32,5]\n",
    "series = pd.Series(array)\n",
    "print(series)"
   ]
  },
  {
   "cell_type": "code",
   "execution_count": 1,
   "id": "fb96413a-c0ba-4cbc-9853-69d595ef4a58",
   "metadata": {},
   "outputs": [
    {
     "name": "stdout",
     "output_type": "stream",
     "text": [
      "1\n",
      "2\n",
      "fizz \n",
      "4\n",
      "buzz\n",
      "fizz \n",
      "7\n",
      "8\n",
      "fizz \n",
      "buzz\n",
      "10\n"
     ]
    }
   ],
   "source": [
    "import pandas as pd\n",
    "import numpy as np\n",
    "for i in range(1,11):\n",
    "    if i %3==0 and i%5==0:\n",
    "        print(\"fizzbuzz\")\n",
    "    elif i%3==0:\n",
    "        print(\"fizz \")\n",
    "    elif  i %5==0:\n",
    "        print(\"buzz\") \n",
    "    else:   \n",
    "        print(i)\n",
    "print(i)         \n",
    "series=pd.Series(i)\n"
   ]
  },
  {
   "cell_type": "code",
   "execution_count": 4,
   "id": "be57e0f1-29c8-443d-bcf4-a6a54fd93acc",
   "metadata": {},
   "outputs": [
    {
     "name": "stdout",
     "output_type": "stream",
     "text": [
      "    name  age         dept  salary      city\n",
      "0   riya   23      Testing   40000    mumbai\n",
      "1  priya   43  Engineering   50000  dehradun\n",
      "2   john   26       Design   52000    nashik\n",
      "3    dev   55      manager   70000   solapur\n",
      "4    raj   34    developer   56000     delhi\n"
     ]
    }
   ],
   "source": [
    "data = {\"name\": [\"riya\",\"priya\", \"john\", \"dev\",\"raj\"],\n",
    "       \"age\":[23,43,26,55,34],\n",
    "       \"dept\": [\"Testing\",\"Engineering\",\"Design\",\"manager\",\"developer\"],\n",
    "       \"salary\":[40000,50000,52000,70000,56000],\n",
    "       \"city\": [\"mumbai\",\"dehradun\",\"nashik\",\"solapur\",\"delhi\",]}\n",
    "df=pd.DataFrame(data)\n",
    "print(df)"
   ]
  },
  {
   "cell_type": "code",
   "execution_count": 5,
   "id": "48e8366f-83f3-4762-abf7-101ad6d9048f",
   "metadata": {},
   "outputs": [
    {
     "name": "stdout",
     "output_type": "stream",
     "text": [
      "    name  age         dept  salary      city\n",
      "1  priya   43  Engineering   50000  dehradun\n",
      "3    dev   55      manager   70000   solapur\n",
      "4    raj   34    developer   56000     delhi\n"
     ]
    }
   ],
   "source": [
    "age_30=df[df[\"age\"]>30]\n",
    "print(age_30)"
   ]
  },
  {
   "cell_type": "code",
   "execution_count": 6,
   "id": "efb461a3-38d4-4efe-a4b5-18a5080009f7",
   "metadata": {},
   "outputs": [
    {
     "name": "stdout",
     "output_type": "stream",
     "text": [
      "  name  age     dept  salary     city\n",
      "3  dev   55  manager   70000  solapur\n"
     ]
    }
   ],
   "source": [
    "salary_above=df[df[\"salary\"]>60000]\n",
    "print(salary_above)"
   ]
  },
  {
   "cell_type": "code",
   "execution_count": 7,
   "id": "430c9919-c873-44ff-bd80-1037c25f9f19",
   "metadata": {},
   "outputs": [
    {
     "name": "stdout",
     "output_type": "stream",
     "text": [
      "    name  age         dept  salary      city\n",
      "1  priya   43  Engineering   50000  dehradun\n",
      "2   john   26       Design   52000    nashik\n"
     ]
    }
   ],
   "source": [
    "enggordesign=df[df[\"dept\"].isin([\"Engineering\" ,\"Design\"])]\n",
    "print(enggordesign)    "
   ]
  },
  {
   "cell_type": "code",
   "execution_count": 8,
   "id": "b7a2a4a6-4122-417a-bf42-9dc9b47beba2",
   "metadata": {},
   "outputs": [
    {
     "name": "stdout",
     "output_type": "stream",
     "text": [
      "   name  age     dept  salary     city\n",
      "0  riya   23  Testing   40000   mumbai\n",
      "3   dev   55  manager   70000  solapur\n"
     ]
    }
   ],
   "source": [
    "citywithmd=df[df[\"city\"].isin([\"solapur\",\"mumbai\"])]\n",
    "print(citywithmd)"
   ]
  },
  {
   "cell_type": "code",
   "execution_count": 9,
   "id": "e0d84c4e-818f-4d30-8f4d-3394ad9b08bc",
   "metadata": {},
   "outputs": [
    {
     "name": "stdout",
     "output_type": "stream",
     "text": [
      "    name  age         dept  salary      city\n",
      "0   riya   23      Testing   40000    mumbai\n",
      "1  priya   43  Engineering   50000  dehradun\n",
      "2   john   26       Design   52000    nashik\n"
     ]
    }
   ],
   "source": [
    "print(df.iloc[[0,1,2]]) "
   ]
  },
  {
   "cell_type": "code",
   "execution_count": 10,
   "id": "f48fefd6-c5ff-41ce-bb26-3c70f7c8b929",
   "metadata": {},
   "outputs": [
    {
     "name": "stdout",
     "output_type": "stream",
     "text": [
      "name      object\n",
      "age        int64\n",
      "dept      object\n",
      "salary     int64\n",
      "city      object\n",
      "dtype: object\n"
     ]
    }
   ],
   "source": [
    "print(df.dtypes)"
   ]
  },
  {
   "cell_type": "code",
   "execution_count": 11,
   "id": "53d0251e-73ef-4a3a-b58f-d07b0b0a73ae",
   "metadata": {},
   "outputs": [
    {
     "name": "stdout",
     "output_type": "stream",
     "text": [
      "             age        salary\n",
      "count   5.000000      5.000000\n",
      "mean   36.200000  53600.000000\n",
      "std    13.065221  10899.541275\n",
      "min    23.000000  40000.000000\n",
      "25%    26.000000  50000.000000\n",
      "50%    34.000000  52000.000000\n",
      "75%    43.000000  56000.000000\n",
      "max    55.000000  70000.000000\n"
     ]
    }
   ],
   "source": [
    "print(df.describe())"
   ]
  },
  {
   "cell_type": "code",
   "execution_count": 12,
   "id": "cd44432a-ddd7-4b6b-b8e5-a3ed9d0ca935",
   "metadata": {},
   "outputs": [
    {
     "name": "stdout",
     "output_type": "stream",
     "text": [
      "    name  age         dept  salary      city\n",
      "0   riya   23      Testing   40000    mumbai\n",
      "1  priya   43  Engineering   50000  dehradun\n",
      "2   john   26       Design   52000    nashik\n",
      "3    dev   55      manager   70000   solapur\n",
      "4    raj   34    developer   56000     delhi\n"
     ]
    }
   ],
   "source": [
    "print(df)"
   ]
  },
  {
   "cell_type": "code",
   "execution_count": 13,
   "id": "ba345452-0ba1-4943-9948-923a6a1987ad",
   "metadata": {},
   "outputs": [
    {
     "name": "stdout",
     "output_type": "stream",
     "text": [
      "    name  age         dept  salary      city\n",
      "0   riya   23      Testing   40000    mumbai\n",
      "1  priya   43  Engineering   50000  dehradun\n",
      "2   john   26       Design   52000    nashik\n"
     ]
    }
   ],
   "source": [
    "print(df.iloc[[0,1,2]])"
   ]
  },
  {
   "cell_type": "code",
   "execution_count": 14,
   "id": "5671ec34-aabb-42ba-81be-bd09e3b81a1a",
   "metadata": {},
   "outputs": [
    {
     "name": "stdout",
     "output_type": "stream",
     "text": [
      "name         riya\n",
      "age            23\n",
      "dept      Testing\n",
      "salary      40000\n",
      "city       mumbai\n",
      "Name: 0, dtype: object\n",
      "--\n",
      "name            priya\n",
      "age                43\n",
      "dept      Engineering\n",
      "salary          50000\n",
      "city         dehradun\n",
      "Name: 1, dtype: object\n",
      "--\n",
      "name        john\n",
      "age           26\n",
      "dept      Design\n",
      "salary     52000\n",
      "city      nashik\n",
      "Name: 2, dtype: object\n",
      "--\n"
     ]
    }
   ],
   "source": [
    "rim=0\n",
    "while rim<3:\n",
    "    print(df.loc[rim])\n",
    "    print(\"--\")\n",
    "    rim+=1"
   ]
  },
  {
   "cell_type": "code",
   "execution_count": 15,
   "id": "f1b5573f-a6af-4bd5-a855-648177f5f9ea",
   "metadata": {},
   "outputs": [
    {
     "name": "stdout",
     "output_type": "stream",
     "text": [
      "    name  age         dept  salary      city\n",
      "0   riya   23      Testing   40000    mumbai\n",
      "1  priya   43  Engineering   50000  dehradun\n",
      "2   john   26       Design   52000    nashik\n",
      "3    dev   55      manager   70000   solapur\n",
      "4    raj   34    developer   56000     delhi\n"
     ]
    }
   ],
   "source": [
    "print(df)"
   ]
  },
  {
   "cell_type": "code",
   "execution_count": 16,
   "id": "0806f4a5-b6b6-4438-bedc-8b9953d16132",
   "metadata": {},
   "outputs": [
    {
     "name": "stdout",
     "output_type": "stream",
     "text": [
      "dept\n",
      "Design         52000.0\n",
      "Engineering    50000.0\n",
      "Testing        40000.0\n",
      "developer      56000.0\n",
      "manager        70000.0\n",
      "Name: salary, dtype: float64\n"
     ]
    }
   ],
   "source": [
    "avg_marks=df.groupby(\"dept\")[\"salary\"].mean()\n",
    "print(avg_marks)"
   ]
  },
  {
   "cell_type": "code",
   "execution_count": 17,
   "id": "b52cde7c-1ca1-4352-9bd5-2be94803c02f",
   "metadata": {},
   "outputs": [],
   "source": [
    "df.to_csv(\"students_details.csv\",index=False)"
   ]
  },
  {
   "cell_type": "code",
   "execution_count": 18,
   "id": "dbc5536d-21e7-4df1-a020-ae602b8a56a9",
   "metadata": {},
   "outputs": [],
   "source": [
    "df.to_html(\"students_details.html\")"
   ]
  },
  {
   "cell_type": "code",
   "execution_count": 19,
   "id": "47203c33-39f0-40af-a896-bfe487d5eb6f",
   "metadata": {},
   "outputs": [],
   "source": [
    "df.to_csv(\"laptop_data_100.csv\")"
   ]
  },
  {
   "cell_type": "code",
   "execution_count": 20,
   "id": "e6f11a56-d4f6-42fc-81b6-b62ae9a32231",
   "metadata": {},
   "outputs": [],
   "source": [
    "loaded_df=pd.read_csv(\"laptop_data_100.csv\")"
   ]
  },
  {
   "cell_type": "code",
   "execution_count": 21,
   "id": "c935dd86-5bff-4a1e-9130-2c45b5055bc6",
   "metadata": {},
   "outputs": [
    {
     "name": "stdout",
     "output_type": "stream",
     "text": [
      "   Unnamed: 0   name  age         dept  salary      city\n",
      "0           0   riya   23      Testing   40000    mumbai\n",
      "1           1  priya   43  Engineering   50000  dehradun\n",
      "2           2   john   26       Design   52000    nashik\n",
      "3           3    dev   55      manager   70000   solapur\n",
      "4           4    raj   34    developer   56000     delhi\n"
     ]
    }
   ],
   "source": [
    "print(loaded_df)"
   ]
  },
  {
   "cell_type": "code",
   "execution_count": 22,
   "id": "c12cc31f-62d9-4e14-9374-d7c596df5897",
   "metadata": {},
   "outputs": [
    {
     "data": {
      "text/html": [
       "<div>\n",
       "<style scoped>\n",
       "    .dataframe tbody tr th:only-of-type {\n",
       "        vertical-align: middle;\n",
       "    }\n",
       "\n",
       "    .dataframe tbody tr th {\n",
       "        vertical-align: top;\n",
       "    }\n",
       "\n",
       "    .dataframe thead th {\n",
       "        text-align: right;\n",
       "    }\n",
       "</style>\n",
       "<table border=\"1\" class=\"dataframe\">\n",
       "  <thead>\n",
       "    <tr style=\"text-align: right;\">\n",
       "      <th></th>\n",
       "      <th>Unnamed: 0</th>\n",
       "      <th>name</th>\n",
       "      <th>age</th>\n",
       "      <th>dept</th>\n",
       "      <th>salary</th>\n",
       "      <th>city</th>\n",
       "    </tr>\n",
       "  </thead>\n",
       "  <tbody>\n",
       "    <tr>\n",
       "      <th>0</th>\n",
       "      <td>0</td>\n",
       "      <td>riya</td>\n",
       "      <td>23</td>\n",
       "      <td>Testing</td>\n",
       "      <td>40000</td>\n",
       "      <td>mumbai</td>\n",
       "    </tr>\n",
       "    <tr>\n",
       "      <th>1</th>\n",
       "      <td>1</td>\n",
       "      <td>priya</td>\n",
       "      <td>43</td>\n",
       "      <td>Engineering</td>\n",
       "      <td>50000</td>\n",
       "      <td>dehradun</td>\n",
       "    </tr>\n",
       "    <tr>\n",
       "      <th>2</th>\n",
       "      <td>2</td>\n",
       "      <td>john</td>\n",
       "      <td>26</td>\n",
       "      <td>Design</td>\n",
       "      <td>52000</td>\n",
       "      <td>nashik</td>\n",
       "    </tr>\n",
       "    <tr>\n",
       "      <th>3</th>\n",
       "      <td>3</td>\n",
       "      <td>dev</td>\n",
       "      <td>55</td>\n",
       "      <td>manager</td>\n",
       "      <td>70000</td>\n",
       "      <td>solapur</td>\n",
       "    </tr>\n",
       "    <tr>\n",
       "      <th>4</th>\n",
       "      <td>4</td>\n",
       "      <td>raj</td>\n",
       "      <td>34</td>\n",
       "      <td>developer</td>\n",
       "      <td>56000</td>\n",
       "      <td>delhi</td>\n",
       "    </tr>\n",
       "  </tbody>\n",
       "</table>\n",
       "</div>"
      ],
      "text/plain": [
       "   Unnamed: 0   name  age         dept  salary      city\n",
       "0           0   riya   23      Testing   40000    mumbai\n",
       "1           1  priya   43  Engineering   50000  dehradun\n",
       "2           2   john   26       Design   52000    nashik\n",
       "3           3    dev   55      manager   70000   solapur\n",
       "4           4    raj   34    developer   56000     delhi"
      ]
     },
     "execution_count": 22,
     "metadata": {},
     "output_type": "execute_result"
    }
   ],
   "source": [
    "loaded_df.head()"
   ]
  },
  {
   "cell_type": "markdown",
   "id": "ae2ee4f3-cd8b-4414-8167-1cbe3d2a5558",
   "metadata": {},
   "source": [
    "### Print samsung laptops priced between 50000 to 70000"
   ]
  },
  {
   "cell_type": "code",
   "execution_count": 23,
   "id": "860c2e0f-248f-4470-9dfd-4b31a5b55a65",
   "metadata": {},
   "outputs": [
    {
     "ename": "KeyError",
     "evalue": "'Brand'",
     "output_type": "error",
     "traceback": [
      "\u001b[31m---------------------------------------------------------------------------\u001b[39m",
      "\u001b[31mKeyError\u001b[39m                                  Traceback (most recent call last)",
      "\u001b[36mFile \u001b[39m\u001b[32m~\\AppData\\Local\\Programs\\Python\\Python313\\Lib\\site-packages\\pandas\\core\\indexes\\base.py:3812\u001b[39m, in \u001b[36mIndex.get_loc\u001b[39m\u001b[34m(self, key)\u001b[39m\n\u001b[32m   3811\u001b[39m \u001b[38;5;28;01mtry\u001b[39;00m:\n\u001b[32m-> \u001b[39m\u001b[32m3812\u001b[39m     \u001b[38;5;28;01mreturn\u001b[39;00m \u001b[38;5;28;43mself\u001b[39;49m\u001b[43m.\u001b[49m\u001b[43m_engine\u001b[49m\u001b[43m.\u001b[49m\u001b[43mget_loc\u001b[49m\u001b[43m(\u001b[49m\u001b[43mcasted_key\u001b[49m\u001b[43m)\u001b[49m\n\u001b[32m   3813\u001b[39m \u001b[38;5;28;01mexcept\u001b[39;00m \u001b[38;5;167;01mKeyError\u001b[39;00m \u001b[38;5;28;01mas\u001b[39;00m err:\n",
      "\u001b[36mFile \u001b[39m\u001b[32mpandas/_libs/index.pyx:167\u001b[39m, in \u001b[36mpandas._libs.index.IndexEngine.get_loc\u001b[39m\u001b[34m()\u001b[39m\n",
      "\u001b[36mFile \u001b[39m\u001b[32mpandas/_libs/index.pyx:196\u001b[39m, in \u001b[36mpandas._libs.index.IndexEngine.get_loc\u001b[39m\u001b[34m()\u001b[39m\n",
      "\u001b[36mFile \u001b[39m\u001b[32mpandas/_libs/hashtable_class_helper.pxi:7088\u001b[39m, in \u001b[36mpandas._libs.hashtable.PyObjectHashTable.get_item\u001b[39m\u001b[34m()\u001b[39m\n",
      "\u001b[36mFile \u001b[39m\u001b[32mpandas/_libs/hashtable_class_helper.pxi:7096\u001b[39m, in \u001b[36mpandas._libs.hashtable.PyObjectHashTable.get_item\u001b[39m\u001b[34m()\u001b[39m\n",
      "\u001b[31mKeyError\u001b[39m: 'Brand'",
      "\nThe above exception was the direct cause of the following exception:\n",
      "\u001b[31mKeyError\u001b[39m                                  Traceback (most recent call last)",
      "\u001b[36mCell\u001b[39m\u001b[36m \u001b[39m\u001b[32mIn[23]\u001b[39m\u001b[32m, line 1\u001b[39m\n\u001b[32m----> \u001b[39m\u001b[32m1\u001b[39m samsung_val=loaded_df[(\u001b[43mloaded_df\u001b[49m\u001b[43m[\u001b[49m\u001b[33;43m'\u001b[39;49m\u001b[33;43mBrand\u001b[39;49m\u001b[33;43m'\u001b[39;49m\u001b[43m]\u001b[49m==\u001b[33m'\u001b[39m\u001b[33mSamsung\u001b[39m\u001b[33m'\u001b[39m) &\n\u001b[32m      2\u001b[39m                       (loaded_df[\u001b[33m'\u001b[39m\u001b[33mPrice (INR)\u001b[39m\u001b[33m'\u001b[39m] >= \u001b[32m50000\u001b[39m)&\n\u001b[32m      3\u001b[39m                       (loaded_df[\u001b[33m'\u001b[39m\u001b[33mPrice (INR)\u001b[39m\u001b[33m'\u001b[39m] <= \u001b[32m70000\u001b[39m)]\n\u001b[32m      4\u001b[39m \u001b[38;5;28mprint\u001b[39m(samsung_val)\n",
      "\u001b[36mFile \u001b[39m\u001b[32m~\\AppData\\Local\\Programs\\Python\\Python313\\Lib\\site-packages\\pandas\\core\\frame.py:4107\u001b[39m, in \u001b[36mDataFrame.__getitem__\u001b[39m\u001b[34m(self, key)\u001b[39m\n\u001b[32m   4105\u001b[39m \u001b[38;5;28;01mif\u001b[39;00m \u001b[38;5;28mself\u001b[39m.columns.nlevels > \u001b[32m1\u001b[39m:\n\u001b[32m   4106\u001b[39m     \u001b[38;5;28;01mreturn\u001b[39;00m \u001b[38;5;28mself\u001b[39m._getitem_multilevel(key)\n\u001b[32m-> \u001b[39m\u001b[32m4107\u001b[39m indexer = \u001b[38;5;28;43mself\u001b[39;49m\u001b[43m.\u001b[49m\u001b[43mcolumns\u001b[49m\u001b[43m.\u001b[49m\u001b[43mget_loc\u001b[49m\u001b[43m(\u001b[49m\u001b[43mkey\u001b[49m\u001b[43m)\u001b[49m\n\u001b[32m   4108\u001b[39m \u001b[38;5;28;01mif\u001b[39;00m is_integer(indexer):\n\u001b[32m   4109\u001b[39m     indexer = [indexer]\n",
      "\u001b[36mFile \u001b[39m\u001b[32m~\\AppData\\Local\\Programs\\Python\\Python313\\Lib\\site-packages\\pandas\\core\\indexes\\base.py:3819\u001b[39m, in \u001b[36mIndex.get_loc\u001b[39m\u001b[34m(self, key)\u001b[39m\n\u001b[32m   3814\u001b[39m     \u001b[38;5;28;01mif\u001b[39;00m \u001b[38;5;28misinstance\u001b[39m(casted_key, \u001b[38;5;28mslice\u001b[39m) \u001b[38;5;129;01mor\u001b[39;00m (\n\u001b[32m   3815\u001b[39m         \u001b[38;5;28misinstance\u001b[39m(casted_key, abc.Iterable)\n\u001b[32m   3816\u001b[39m         \u001b[38;5;129;01mand\u001b[39;00m \u001b[38;5;28many\u001b[39m(\u001b[38;5;28misinstance\u001b[39m(x, \u001b[38;5;28mslice\u001b[39m) \u001b[38;5;28;01mfor\u001b[39;00m x \u001b[38;5;129;01min\u001b[39;00m casted_key)\n\u001b[32m   3817\u001b[39m     ):\n\u001b[32m   3818\u001b[39m         \u001b[38;5;28;01mraise\u001b[39;00m InvalidIndexError(key)\n\u001b[32m-> \u001b[39m\u001b[32m3819\u001b[39m     \u001b[38;5;28;01mraise\u001b[39;00m \u001b[38;5;167;01mKeyError\u001b[39;00m(key) \u001b[38;5;28;01mfrom\u001b[39;00m\u001b[38;5;250m \u001b[39m\u001b[34;01merr\u001b[39;00m\n\u001b[32m   3820\u001b[39m \u001b[38;5;28;01mexcept\u001b[39;00m \u001b[38;5;167;01mTypeError\u001b[39;00m:\n\u001b[32m   3821\u001b[39m     \u001b[38;5;66;03m# If we have a listlike key, _check_indexing_error will raise\u001b[39;00m\n\u001b[32m   3822\u001b[39m     \u001b[38;5;66;03m#  InvalidIndexError. Otherwise we fall through and re-raise\u001b[39;00m\n\u001b[32m   3823\u001b[39m     \u001b[38;5;66;03m#  the TypeError.\u001b[39;00m\n\u001b[32m   3824\u001b[39m     \u001b[38;5;28mself\u001b[39m._check_indexing_error(key)\n",
      "\u001b[31mKeyError\u001b[39m: 'Brand'"
     ]
    }
   ],
   "source": [
    "samsung_val=loaded_df[(loaded_df['Brand']=='Samsung') &\n",
    "                      (loaded_df['Price (INR)'] >= 50000)&\n",
    "                      (loaded_df['Price (INR)'] <= 70000)]\n",
    "print(samsung_val)"
   ]
  },
  {
   "cell_type": "markdown",
   "id": "ef660924-5b67-4956-bd7d-ca90881662f0",
   "metadata": {},
   "source": [
    "### Total lenova comapny laptops whose price between 50k to 1l"
   ]
  },
  {
   "cell_type": "code",
   "execution_count": null,
   "id": "6d799c6e-76de-4ab4-b634-5395da259389",
   "metadata": {},
   "outputs": [],
   "source": [
    "lenovo_val=loaded_df[\n",
    "       (loaded_df['Brand'] == 'Lenovo') &\n",
    "        (loaded_df['Price (INR)'] >= 50000) &\n",
    "        (loaded_df['Price (INR)'] <= 100000) \n",
    "]['Price (INR)'].sum()\n",
    "print(\"total lenovo company laptops between 50000 to 100000:\",lenovo_val)"
   ]
  }
 ],
 "metadata": {
  "kernelspec": {
   "display_name": "Python 3 (ipykernel)",
   "language": "python",
   "name": "python3"
  },
  "language_info": {
   "codemirror_mode": {
    "name": "ipython",
    "version": 3
   },
   "file_extension": ".py",
   "mimetype": "text/x-python",
   "name": "python",
   "nbconvert_exporter": "python",
   "pygments_lexer": "ipython3",
   "version": "3.13.5"
  }
 },
 "nbformat": 4,
 "nbformat_minor": 5
}
