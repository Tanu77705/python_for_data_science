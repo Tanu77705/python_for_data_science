{
 "cells": [
  {
   "cell_type": "code",
   "execution_count": 5,
   "id": "8d92305d-672b-4a35-8a58-5ef7b3a1f776",
   "metadata": {},
   "outputs": [
    {
     "name": "stdout",
     "output_type": "stream",
     "text": [
      "['maharashtra', 13, 'adil', 10.34, True, 'tanu']\n"
     ]
    }
   ],
   "source": [
    "random=[\"maharashtra\",13,\"adil\",10.34,True]\n",
    "random.append(\"tanu\")\n",
    "print(random)"
   ]
  },
  {
   "cell_type": "code",
   "execution_count": 8,
   "id": "8ef6154a-980d-4717-80ea-1311cd6ed8c0",
   "metadata": {},
   "outputs": [
    {
     "name": "stdout",
     "output_type": "stream",
     "text": [
      "['maharashtra', 13, 'adil', 'vaish', 10.34, True, 'tanu']\n"
     ]
    }
   ],
   "source": [
    "random.insert(3,\"vaish\")\n",
    "print(random)"
   ]
  },
  {
   "cell_type": "code",
   "execution_count": 13,
   "id": "638d2558-db3a-4dca-bfea-29633c03d23b",
   "metadata": {},
   "outputs": [
    {
     "name": "stdout",
     "output_type": "stream",
     "text": [
      "['maharashtra', 'vaish', True, 'tanu']\n"
     ]
    }
   ],
   "source": [
    "random.pop(2)\n",
    "print(random)"
   ]
  },
  {
   "cell_type": "code",
   "execution_count": 11,
   "id": "bcd4155b-2095-4804-abd3-4f3d026bb4b2",
   "metadata": {},
   "outputs": [
    {
     "name": "stdout",
     "output_type": "stream",
     "text": [
      "['maharashtra', 'vaish', 10.34, True, 'tanu']\n"
     ]
    }
   ],
   "source": [
    "random.remove(13)\n",
    "print(random)"
   ]
  },
  {
   "cell_type": "code",
   "execution_count": 12,
   "id": "3520dc6d-817b-46eb-ac43-a62fffccf963",
   "metadata": {},
   "outputs": [
    {
     "name": "stdout",
     "output_type": "stream",
     "text": [
      "True\n"
     ]
    }
   ],
   "source": [
    "print(random[3])"
   ]
  },
  {
   "cell_type": "code",
   "execution_count": 30,
   "id": "711e9e52-08d2-4d97-baad-8dedaa8ec7fc",
   "metadata": {},
   "outputs": [
    {
     "name": "stdout",
     "output_type": "stream",
     "text": [
      "['a', 'd', 't']\n"
     ]
    }
   ],
   "source": [
    "demo=[6,2,3,4]\n",
    "remo=[\"t\",\"a\",\"d\"]\n",
    "remo.sort()\n",
    "demo.sort()\n",
    "print(remo)"
   ]
  },
  {
   "cell_type": "code",
   "execution_count": 17,
   "id": "9b044f11-04f3-450e-b482-f0204f61e8f5",
   "metadata": {},
   "outputs": [
    {
     "name": "stdout",
     "output_type": "stream",
     "text": [
      "3\n"
     ]
    }
   ],
   "source": [
    "print(random.index('tanu'))"
   ]
  },
  {
   "cell_type": "code",
   "execution_count": 25,
   "id": "7f733795-11cf-47f1-95d7-dda78d5699bd",
   "metadata": {},
   "outputs": [
    {
     "name": "stdout",
     "output_type": "stream",
     "text": [
      "1\n"
     ]
    }
   ],
   "source": [
    "print(random.count('tanu'))"
   ]
  },
  {
   "cell_type": "code",
   "execution_count": 35,
   "id": "b4dfdba8-8005-46f1-a325-075c6f746b3a",
   "metadata": {},
   "outputs": [
    {
     "name": "stdout",
     "output_type": "stream",
     "text": [
      "4\n"
     ]
    }
   ],
   "source": [
    "print(len(random))"
   ]
  },
  {
   "cell_type": "code",
   "execution_count": 31,
   "id": "a31a7db6-c2a8-4230-a0b3-441473ed0e5c",
   "metadata": {},
   "outputs": [
    {
     "name": "stdout",
     "output_type": "stream",
     "text": [
      "['tanu', True, 'vaish', 'maharashtra']\n"
     ]
    }
   ],
   "source": [
    "random.reverse()\n",
    "print(random)"
   ]
  },
  {
   "cell_type": "code",
   "execution_count": 1,
   "id": "324a1c1e-2a25-4ecd-a6d6-984287e9780a",
   "metadata": {},
   "outputs": [
    {
     "name": "stdout",
     "output_type": "stream",
     "text": [
      "2\n",
      "4\n",
      "6\n",
      "8\n",
      "10\n",
      "12\n",
      "14\n",
      "16\n",
      "18\n",
      "20\n",
      "22\n",
      "24\n",
      "26\n",
      "28\n",
      "30\n",
      "32\n",
      "34\n",
      "36\n",
      "38\n",
      "40\n",
      "42\n",
      "44\n",
      "46\n",
      "48\n",
      "50\n"
     ]
    }
   ],
   "source": [
    "for i in range(1,51):\n",
    "    if i%2==0:\n",
    "        print(i)"
   ]
  },
  {
   "cell_type": "code",
   "execution_count": 1,
   "id": "40141b68-5883-4ed4-b276-a0d50f8040ce",
   "metadata": {},
   "outputs": [
    {
     "name": "stdout",
     "output_type": "stream",
     "text": [
      "2\n",
      "4\n",
      "6\n",
      "8\n",
      "10\n",
      "12\n",
      "14\n",
      "16\n",
      "18\n",
      "20\n",
      "22\n",
      "24\n",
      "26\n",
      "28\n",
      "30\n",
      "32\n",
      "34\n",
      "36\n",
      "38\n",
      "40\n",
      "42\n",
      "44\n",
      "46\n",
      "48\n",
      "50\n"
     ]
    }
   ],
   "source": [
    "for i in range(2,51,2):\n",
    "    print(i)"
   ]
  },
  {
   "cell_type": "code",
   "execution_count": null,
   "id": "314b0dd9-7840-4410-98ff-eb4c4e401d14",
   "metadata": {},
   "outputs": [],
   "source": []
  }
 ],
 "metadata": {
  "kernelspec": {
   "display_name": "Python 3 (ipykernel)",
   "language": "python",
   "name": "python3"
  },
  "language_info": {
   "codemirror_mode": {
    "name": "ipython",
    "version": 3
   },
   "file_extension": ".py",
   "mimetype": "text/x-python",
   "name": "python",
   "nbconvert_exporter": "python",
   "pygments_lexer": "ipython3",
   "version": "3.13.5"
  }
 },
 "nbformat": 4,
 "nbformat_minor": 5
}
