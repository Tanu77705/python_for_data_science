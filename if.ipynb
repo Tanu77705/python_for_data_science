{
 "cells": [
  {
   "cell_type": "code",
   "execution_count": null,
   "id": "58b3f8d2-1409-4a04-a769-9e7e83b3a4d9",
   "metadata": {},
   "outputs": [],
   "source": [
    "i=0\n",
    "while i<6:\n",
    "    i+=1\n",
    "    if i==3:\n",
    "        continue\n",
    "    print(i)"
   ]
  },
  {
   "cell_type": "code",
   "execution_count": 3,
   "id": "71f8986d-de67-4bf7-89de-6ae54adabeeb",
   "metadata": {},
   "outputs": [
    {
     "name": "stdout",
     "output_type": "stream",
     "text": [
      "n is smaller\n"
     ]
    }
   ],
   "source": [
    "n=5\n",
    "if n>10:\n",
    "    print(\"n is greater\")\n",
    "else:\n",
    "    print(\"n is smaller\")"
   ]
  },
  {
   "cell_type": "code",
   "execution_count": 4,
   "id": "c531e0f3-b31d-405b-8588-d4412fde3019",
   "metadata": {},
   "outputs": [
    {
     "name": "stdout",
     "output_type": "stream",
     "text": [
      "n is  equal to 5\n"
     ]
    }
   ],
   "source": [
    "n=5\n",
    "if n>10:\n",
    "    print(\"n is greater\")\n",
    "elif n==5:\n",
    "    print(\"n is  equal to 5\")\n",
    "else:\n",
    "    print(\"n is smaller\")"
   ]
  },
  {
   "cell_type": "code",
   "execution_count": 7,
   "id": "c9cf92ae-298f-403f-b832-e1474e1029b1",
   "metadata": {},
   "outputs": [
    {
     "name": "stdout",
     "output_type": "stream",
     "text": [
      "15\n"
     ]
    }
   ],
   "source": [
    "def addofAandB ():\n",
    "    a=5\n",
    "    b=10\n",
    "    print(a+b) \n",
    "addofAandB()    "
   ]
  },
  {
   "cell_type": "code",
   "execution_count": 11,
   "id": "bcb328df-321d-4bfe-a2fe-6f8243c7396a",
   "metadata": {},
   "outputs": [
    {
     "name": "stdout",
     "output_type": "stream",
     "text": [
      "30\n"
     ]
    }
   ],
   "source": [
    "def addoftwono (a,b):\n",
    "    print(a+b)\n",
    "addoftwono(25,5)   "
   ]
  },
  {
   "cell_type": "code",
   "execution_count": null,
   "id": "054207d7-4cb7-46c9-b1f6-e33da71d3fd3",
   "metadata": {},
   "outputs": [],
   "source": []
  }
 ],
 "metadata": {
  "kernelspec": {
   "display_name": "Python 3 (ipykernel)",
   "language": "python",
   "name": "python3"
  },
  "language_info": {
   "codemirror_mode": {
    "name": "ipython",
    "version": 3
   },
   "file_extension": ".py",
   "mimetype": "text/x-python",
   "name": "python",
   "nbconvert_exporter": "python",
   "pygments_lexer": "ipython3",
   "version": "3.13.5"
  }
 },
 "nbformat": 4,
 "nbformat_minor": 5
}
