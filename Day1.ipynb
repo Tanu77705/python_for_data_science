{
 "cells": [
  {
   "cell_type": "markdown",
   "id": "166872d7-a187-4e12-bd5a-ef5be3533f00",
   "metadata": {},
   "source": [
    "|Feature     |   list([]) |   Tuple(())  |   Set({})   | Dictionary  ({Key :Value})|\n",
    "|--------------|--------------|-------------|---------------|-----------------|\n",
    "|ordered| Yes | yes | No | No(Keys are unique)|\n",
    "|Mutable|Yes|No|Yes|Yes|\n",
    "|Allow Duplicate |Yes|Yes|No|Keys ->No ,Values ->Yes|\n",
    "|Indexing Supported|Yes|Yes|No|No(access via keys)|\n",
    "|Iteration Possible |Yes|Yes|Yes|Yes|\n",
    "|Use case|Ordered Collection of Items|Fixed data (co-ordinates)(config)|Unique item collection|key value maping(ex-age->number)\n"
   ]
  },
  {
   "cell_type": "markdown",
   "id": "34e65540-89af-4761-8001-520b7d386271",
   "metadata": {},
   "source": [
    "### Ordered collection"
   ]
  },
  {
   "cell_type": "code",
   "execution_count": 2,
   "id": "d10e76a6-db43-457d-a2b3-95db3a11e3b2",
   "metadata": {},
   "outputs": [
    {
     "name": "stdout",
     "output_type": "stream",
     "text": [
      "3\n"
     ]
    }
   ],
   "source": [
    "list=[1,6,3]\n",
    "print(list)"
   ]
  },
  {
   "cell_type": "code",
   "execution_count": 2,
   "id": "9572ed8c-068e-46d3-98c8-ed80a963bcde",
   "metadata": {},
   "outputs": [
    {
     "name": "stdout",
     "output_type": "stream",
     "text": [
      "(1, 2, 3)\n"
     ]
    }
   ],
   "source": [
    "tuple=(1,2,3)\n",
    "print(tuple)"
   ]
  },
  {
   "cell_type": "code",
   "execution_count": 1,
   "id": "13f922d8-071c-4068-afd9-743676230dec",
   "metadata": {},
   "outputs": [
    {
     "name": "stdout",
     "output_type": "stream",
     "text": [
      "{8, 5, 7}\n"
     ]
    }
   ],
   "source": [
    "set={5,8,7}\n",
    "print(set)"
   ]
  },
  {
   "cell_type": "code",
   "execution_count": 22,
   "id": "60f53cd5-0170-4195-9779-acc91e2bdaff",
   "metadata": {},
   "outputs": [
    {
     "name": "stdout",
     "output_type": "stream",
     "text": [
      "{'name': 'tanu', 'age': '21', 'marks': '80'}\n"
     ]
    }
   ],
   "source": [
    "dict={\"name\":\"tanu\",\n",
    "       \"age\":\"21\",\n",
    "       \"marks\":\"80\"}\n",
    "print(dict)"
   ]
  },
  {
   "cell_type": "markdown",
   "id": "c86ec5fe-0520-449a-9770-5d2d2a766ec5",
   "metadata": {},
   "source": [
    "### mutable"
   ]
  },
  {
   "cell_type": "code",
   "execution_count": 13,
   "id": "55a3acb9-5874-4a8e-9419-a629b1addf2c",
   "metadata": {},
   "outputs": [
    {
     "name": "stdout",
     "output_type": "stream",
     "text": [
      "[1, 2, 3, 4]\n"
     ]
    }
   ],
   "source": [
    "list=[1,2,3]\n",
    "list.append(4)\n",
    "print(list)"
   ]
  },
  {
   "cell_type": "code",
   "execution_count": 19,
   "id": "c8c9ed4f-cf12-47cc-a067-304aa5f1d6d7",
   "metadata": {},
   "outputs": [
    {
     "ename": "AttributeError",
     "evalue": "'tuple' object has no attribute 'add'",
     "output_type": "error",
     "traceback": [
      "\u001b[31m---------------------------------------------------------------------------\u001b[39m",
      "\u001b[31mAttributeError\u001b[39m                            Traceback (most recent call last)",
      "\u001b[36mCell\u001b[39m\u001b[36m \u001b[39m\u001b[32mIn[19]\u001b[39m\u001b[32m, line 2\u001b[39m\n\u001b[32m      1\u001b[39m \u001b[38;5;28mtuple\u001b[39m=(\u001b[32m1\u001b[39m,\u001b[32m2\u001b[39m,\u001b[32m3\u001b[39m,\u001b[32m4\u001b[39m)\n\u001b[32m----> \u001b[39m\u001b[32m2\u001b[39m \u001b[38;5;28;43mtuple\u001b[39;49m\u001b[43m.\u001b[49m\u001b[43madd\u001b[49m(\u001b[32m6\u001b[39m)\n\u001b[32m      3\u001b[39m \u001b[38;5;28mprint\u001b[39m(\u001b[38;5;28mtuple\u001b[39m)\n",
      "\u001b[31mAttributeError\u001b[39m: 'tuple' object has no attribute 'add'"
     ]
    }
   ],
   "source": [
    "tuple=(1,2,3,4)\n",
    "tuple.(6)\n",
    "print(tuple)"
   ]
  },
  {
   "cell_type": "code",
   "execution_count": 18,
   "id": "6791106d-4104-49d4-a6af-77263569977d",
   "metadata": {},
   "outputs": [
    {
     "name": "stdout",
     "output_type": "stream",
     "text": [
      "{3, 4, 5, 6}\n"
     ]
    }
   ],
   "source": [
    "set={3,4,5}\n",
    "set.add(6)\n",
    "print(set)"
   ]
  },
  {
   "cell_type": "code",
   "execution_count": 23,
   "id": "8041db4f-c17c-4acc-8d5d-5a6fda612b63",
   "metadata": {},
   "outputs": [
    {
     "name": "stdout",
     "output_type": "stream",
     "text": [
      "{'name': 'tanu', 'age': '21', 'marks': '83'}\n"
     ]
    }
   ],
   "source": [
    "dict={\"name\":\"tanu\",\n",
    "       \"age\": \"21\"}\n",
    "dict[\"marks\"]=\"83\"\n",
    "print(dict)"
   ]
  },
  {
   "cell_type": "markdown",
   "id": "08e06d6c-4661-4ee1-b6eb-3291c5dec2f5",
   "metadata": {},
   "source": [
    "### Allow Duplicates"
   ]
  },
  {
   "cell_type": "code",
   "execution_count": 25,
   "id": "a701118c-0444-494d-9d07-6ba067fe970a",
   "metadata": {},
   "outputs": [
    {
     "name": "stdout",
     "output_type": "stream",
     "text": [
      "[1, 2, 2, 3]\n"
     ]
    }
   ],
   "source": [
    "list=[1,2,2,3]\n",
    "print(list)"
   ]
  },
  {
   "cell_type": "code",
   "execution_count": 26,
   "id": "26082b99-7680-4750-838a-48242e3d1d68",
   "metadata": {},
   "outputs": [
    {
     "name": "stdout",
     "output_type": "stream",
     "text": [
      "(1, 2, 3, 3)\n"
     ]
    }
   ],
   "source": [
    "tuple=(1,2,3,3)\n",
    "print(tuple)"
   ]
  },
  {
   "cell_type": "code",
   "execution_count": 27,
   "id": "56d3ae83-50a0-49ae-9c8a-df75a06573d5",
   "metadata": {},
   "outputs": [
    {
     "name": "stdout",
     "output_type": "stream",
     "text": [
      "{5, 6, 7}\n"
     ]
    }
   ],
   "source": [
    "set={5,6,6,7}\n",
    "print(set)"
   ]
  },
  {
   "cell_type": "code",
   "execution_count": 28,
   "id": "318a86de-3cf6-4e00-9f27-7a249109e3a5",
   "metadata": {},
   "outputs": [
    {
     "name": "stdout",
     "output_type": "stream",
     "text": [
      "{'name': 'vaish', 'age': '21', 'marks': '80'}\n"
     ]
    }
   ],
   "source": [
    "dict={\"name\":\"tanu\",\n",
    "      \"name\":\"vaish\",\n",
    "       \"age\":\"21\",\n",
    "       \"marks\":\"80\"}\n",
    "print(dict)"
   ]
  },
  {
   "cell_type": "markdown",
   "id": "61d3935f-546a-4cfe-8e9f-349c6a3000d4",
   "metadata": {},
   "source": [
    "### Iteration"
   ]
  },
  {
   "cell_type": "code",
   "execution_count": 31,
   "id": "46c37a21-764c-4b6a-ab3e-b2c04bf1f18c",
   "metadata": {},
   "outputs": [
    {
     "name": "stdout",
     "output_type": "stream",
     "text": [
      "1\n",
      "2\n",
      "3\n",
      "4\n",
      "5\n"
     ]
    }
   ],
   "source": [
    "list=[1,2,3,4,5]\n",
    "for li in list:\n",
    "    print(li)"
   ]
  },
  {
   "cell_type": "code",
   "execution_count": 33,
   "id": "0dbc341b-51e3-4bec-a0d9-a0923eac3747",
   "metadata": {},
   "outputs": [
    {
     "name": "stdout",
     "output_type": "stream",
     "text": [
      "1\n",
      "2\n",
      "3\n",
      "4\n",
      "5\n"
     ]
    }
   ],
   "source": [
    "tuple=(1,2,3,4,5)\n",
    "for tup in tuple:\n",
    "    print(tup)"
   ]
  },
  {
   "cell_type": "code",
   "execution_count": 34,
   "id": "2ef8c852-ad19-4688-8db1-8d501e9c6a59",
   "metadata": {},
   "outputs": [
    {
     "name": "stdout",
     "output_type": "stream",
     "text": [
      "5\n",
      "6\n",
      "7\n"
     ]
    }
   ],
   "source": [
    "set={5,6,6,7}\n",
    "for s in set:\n",
    "   print(s)"
   ]
  },
  {
   "cell_type": "code",
   "execution_count": 35,
   "id": "e9e2fe46-e60c-4064-b0b7-b9909c975e06",
   "metadata": {},
   "outputs": [
    {
     "name": "stdout",
     "output_type": "stream",
     "text": [
      "tanu\n",
      "21\n",
      "80\n"
     ]
    }
   ],
   "source": [
    "dict={\"name\":\"tanu\",\n",
    "       \"age\":\"21\",\n",
    "       \"marks\":\"80\"}\n",
    "for items in dict.values():\n",
    "   print(items)"
   ]
  },
  {
   "cell_type": "code",
   "execution_count": null,
   "id": "6789ba2f-6ee0-44a3-ad2a-84ef8d9c1ee6",
   "metadata": {},
   "outputs": [],
   "source": []
  }
 ],
 "metadata": {
  "kernelspec": {
   "display_name": "Python 3 (ipykernel)",
   "language": "python",
   "name": "python3"
  },
  "language_info": {
   "codemirror_mode": {
    "name": "ipython",
    "version": 3
   },
   "file_extension": ".py",
   "mimetype": "text/x-python",
   "name": "python",
   "nbconvert_exporter": "python",
   "pygments_lexer": "ipython3",
   "version": "3.13.5"
  }
 },
 "nbformat": 4,
 "nbformat_minor": 5
}
