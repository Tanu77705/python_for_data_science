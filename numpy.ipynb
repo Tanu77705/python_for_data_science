{
 "cells": [
  {
   "cell_type": "code",
   "execution_count": 1,
   "id": "7b47a545-b4ad-4363-9d39-2f3283ce23ef",
   "metadata": {},
   "outputs": [],
   "source": [
    "import numpy as np"
   ]
  },
  {
   "cell_type": "code",
   "execution_count": 2,
   "id": "bac5a55e-70e2-4620-b799-5a89203808a6",
   "metadata": {},
   "outputs": [],
   "source": [
    "array=np.array([1,2,3,4,5,6])"
   ]
  },
  {
   "cell_type": "code",
   "execution_count": 3,
   "id": "2e1e0690-a4ca-41b7-a25d-4c1dfdbb023d",
   "metadata": {},
   "outputs": [
    {
     "name": "stdout",
     "output_type": "stream",
     "text": [
      "[1 2 3 4 5 6]\n"
     ]
    }
   ],
   "source": [
    "print(array)"
   ]
  },
  {
   "cell_type": "code",
   "execution_count": 23,
   "id": "47477c77-3aa8-4f8e-a78b-733d07a8b883",
   "metadata": {},
   "outputs": [
    {
     "name": "stdout",
     "output_type": "stream",
     "text": [
      "(6,)\n"
     ]
    }
   ],
   "source": [
    "print(array.shape)"
   ]
  },
  {
   "cell_type": "markdown",
   "id": "39b50815-6cc5-4a68-ae53-ad540b6fb57e",
   "metadata": {},
   "source": [
    "#### 2D array"
   ]
  },
  {
   "cell_type": "code",
   "execution_count": 3,
   "id": "943e9351-f279-4bbd-b57f-7e36fe185597",
   "metadata": {},
   "outputs": [],
   "source": [
    "darray=np.array([[1,2,3],[4,5,6],[7,8,9]])"
   ]
  },
  {
   "cell_type": "code",
   "execution_count": 4,
   "id": "043a2bb4-a103-4449-b846-bf0782a6ac1e",
   "metadata": {},
   "outputs": [
    {
     "name": "stdout",
     "output_type": "stream",
     "text": [
      "[[1 2 3]\n",
      " [4 5 6]\n",
      " [7 8 9]]\n"
     ]
    }
   ],
   "source": [
    "print(darray)"
   ]
  },
  {
   "cell_type": "markdown",
   "id": "1fd2ee37-078d-4e5d-93fd-9a8070ec1059",
   "metadata": {},
   "source": [
    "#### To find out shape of an array"
   ]
  },
  {
   "cell_type": "code",
   "execution_count": 26,
   "id": "6ce18714-2807-4f9e-a517-1745d11659a7",
   "metadata": {},
   "outputs": [
    {
     "name": "stdout",
     "output_type": "stream",
     "text": [
      "(3, 3)\n"
     ]
    }
   ],
   "source": [
    "print(darray.shape)"
   ]
  },
  {
   "cell_type": "markdown",
   "id": "d1c4457c-c9f2-470a-86b3-626fdc5cbb84",
   "metadata": {},
   "source": [
    "#### To find out the dimension of array"
   ]
  },
  {
   "cell_type": "code",
   "execution_count": 27,
   "id": "7259d8dc-7692-4d98-8c55-a6eafcd43120",
   "metadata": {},
   "outputs": [
    {
     "name": "stdout",
     "output_type": "stream",
     "text": [
      "2\n"
     ]
    }
   ],
   "source": [
    "print(darray.ndim)"
   ]
  },
  {
   "cell_type": "markdown",
   "id": "ebc1bb92-4173-462b-8d2a-6421254dbc61",
   "metadata": {},
   "source": [
    "#### 3D array"
   ]
  },
  {
   "cell_type": "code",
   "execution_count": 28,
   "id": "a14fd986-06fe-45e7-bcd9-a6655b126489",
   "metadata": {},
   "outputs": [],
   "source": [
    "arrayy=np.array([[[1,2,3],[4,5,6],[7,8,9]]])"
   ]
  },
  {
   "cell_type": "code",
   "execution_count": 29,
   "id": "ce18a669-e677-408b-abfb-b69ad553fef0",
   "metadata": {},
   "outputs": [
    {
     "name": "stdout",
     "output_type": "stream",
     "text": [
      "[[[1 2 3]\n",
      "  [4 5 6]\n",
      "  [7 8 9]]]\n"
     ]
    }
   ],
   "source": [
    "print(arrayy)"
   ]
  },
  {
   "cell_type": "code",
   "execution_count": 30,
   "id": "5ef3b7fc-b8e6-4fe8-831c-a3b2177461d4",
   "metadata": {},
   "outputs": [
    {
     "name": "stdout",
     "output_type": "stream",
     "text": [
      "3\n"
     ]
    }
   ],
   "source": [
    "print(arrayy.ndim)"
   ]
  },
  {
   "cell_type": "markdown",
   "id": "d9f7265c-bdef-46ea-ba58-8657cec2273f",
   "metadata": {},
   "source": [
    "#### to find out size of array"
   ]
  },
  {
   "cell_type": "code",
   "execution_count": 31,
   "id": "d8cbfd44-6681-453d-9910-ba778f9b69ab",
   "metadata": {},
   "outputs": [
    {
     "name": "stdout",
     "output_type": "stream",
     "text": [
      "9\n"
     ]
    }
   ],
   "source": [
    "print(arrayy.size)"
   ]
  },
  {
   "cell_type": "code",
   "execution_count": 32,
   "id": "a92261da-2b55-410f-8350-242d61137954",
   "metadata": {},
   "outputs": [
    {
     "name": "stdout",
     "output_type": "stream",
     "text": [
      "6\n"
     ]
    }
   ],
   "source": [
    "print(array.size)"
   ]
  },
  {
   "cell_type": "markdown",
   "id": "74815ea7-c842-42a6-aba6-615fa2839c68",
   "metadata": {},
   "source": [
    "#### To access single element from an array"
   ]
  },
  {
   "cell_type": "code",
   "execution_count": 33,
   "id": "ef80ba76-2719-497b-a9dd-c4c5785f7016",
   "metadata": {},
   "outputs": [
    {
     "name": "stdout",
     "output_type": "stream",
     "text": [
      "2\n"
     ]
    }
   ],
   "source": [
    "print(array[1])"
   ]
  },
  {
   "cell_type": "markdown",
   "id": "37e28db6-0033-4952-b7b1-fa0773e6211d",
   "metadata": {},
   "source": [
    "#### slicing of an array"
   ]
  },
  {
   "cell_type": "code",
   "execution_count": 34,
   "id": "a4521699-0616-40c4-a0ad-3b7fadc49535",
   "metadata": {},
   "outputs": [
    {
     "name": "stdout",
     "output_type": "stream",
     "text": [
      "[3 4 5]\n"
     ]
    }
   ],
   "source": [
    "print(array[2:5])"
   ]
  },
  {
   "cell_type": "code",
   "execution_count": 35,
   "id": "f2198155-3d1e-4abe-b720-6015049354e4",
   "metadata": {},
   "outputs": [
    {
     "name": "stdout",
     "output_type": "stream",
     "text": [
      "[2 5]\n"
     ]
    }
   ],
   "source": [
    "print(darray[0:2,1])"
   ]
  },
  {
   "cell_type": "markdown",
   "id": "3a76e672-fbcc-4b1a-b89b-b371b59e8f67",
   "metadata": {},
   "source": [
    "#### Reshape the array"
   ]
  },
  {
   "cell_type": "code",
   "execution_count": 36,
   "id": "5b2479a7-d36e-4edd-987f-e72c441acd06",
   "metadata": {},
   "outputs": [],
   "source": [
    "array=np.array([1,2,3,4,5,6])"
   ]
  },
  {
   "cell_type": "code",
   "execution_count": 37,
   "id": "37cffb0d-56cd-4b83-8b95-a60207a42d07",
   "metadata": {},
   "outputs": [
    {
     "name": "stdout",
     "output_type": "stream",
     "text": [
      "[[1 2 3]\n",
      " [4 5 6]]\n"
     ]
    }
   ],
   "source": [
    "arrrr=array.reshape(2,3)\n",
    "print(arrrr)"
   ]
  },
  {
   "cell_type": "code",
   "execution_count": 38,
   "id": "f445de74-a4a3-46fe-8eb0-d54422ba82ac",
   "metadata": {},
   "outputs": [
    {
     "name": "stdout",
     "output_type": "stream",
     "text": [
      "[[1 2 3]\n",
      " [4 5 6]\n",
      " [7 8 9]]\n"
     ]
    }
   ],
   "source": [
    "darray=np.array([[1,2,3],[4,5,6],[7,8,9]])\n",
    "print(darray)"
   ]
  },
  {
   "cell_type": "markdown",
   "id": "77dab205-bc94-4d38-a41d-1185cff207c8",
   "metadata": {},
   "source": [
    "#### To find out the data type of an array"
   ]
  },
  {
   "cell_type": "code",
   "execution_count": 39,
   "id": "b357ca82-e16d-44c4-98f8-761e112821fd",
   "metadata": {},
   "outputs": [
    {
     "name": "stdout",
     "output_type": "stream",
     "text": [
      "int64\n"
     ]
    }
   ],
   "source": [
    "print(array.dtype)"
   ]
  },
  {
   "cell_type": "markdown",
   "id": "642285b8-f2a4-44fd-99f5-f9b4b6c7bc07",
   "metadata": {},
   "source": [
    "#### Access single element from an array"
   ]
  },
  {
   "cell_type": "code",
   "execution_count": 40,
   "id": "80966e76-e0d1-4740-8b19-ba3cb17e7d87",
   "metadata": {},
   "outputs": [
    {
     "name": "stdout",
     "output_type": "stream",
     "text": [
      "4\n"
     ]
    }
   ],
   "source": [
    "print(array[3])"
   ]
  },
  {
   "cell_type": "markdown",
   "id": "80fb2668-7359-4e06-8016-c870df3deeb5",
   "metadata": {},
   "source": [
    "#### Access single element from an multidimensional array"
   ]
  },
  {
   "cell_type": "code",
   "execution_count": 41,
   "id": "8b8b611b-ab34-49cd-bac5-2bbed245bc15",
   "metadata": {},
   "outputs": [
    {
     "name": "stdout",
     "output_type": "stream",
     "text": [
      "[[1 2 3]\n",
      " [4 5 6]\n",
      " [7 8 9]]\n",
      "2\n"
     ]
    }
   ],
   "source": [
    "print(darray)\n",
    "print(darray[0,1])"
   ]
  },
  {
   "cell_type": "markdown",
   "id": "2eba099b-edf5-473c-b230-31af8a948817",
   "metadata": {},
   "source": [
    "#### Update the existing array"
   ]
  },
  {
   "cell_type": "code",
   "execution_count": 42,
   "id": "6640d2d7-a923-4594-af6b-f1203a32fe0b",
   "metadata": {},
   "outputs": [
    {
     "name": "stdout",
     "output_type": "stream",
     "text": [
      "[1 2 3 4 5 6]\n",
      "[ 1  2  3 44  5  6]\n"
     ]
    }
   ],
   "source": [
    "print(array)\n",
    "array[3]=44\n",
    "print(array)"
   ]
  },
  {
   "cell_type": "markdown",
   "id": "25d454e5-794d-4928-8b73-e9b08d15b186",
   "metadata": {},
   "source": [
    "#### Slicing the multi-dimensional array"
   ]
  },
  {
   "cell_type": "code",
   "execution_count": 43,
   "id": "61365e82-c219-47f6-b2e0-6a4ae55dd5b3",
   "metadata": {},
   "outputs": [
    {
     "name": "stdout",
     "output_type": "stream",
     "text": [
      "[[1 2 3]\n",
      " [4 5 6]\n",
      " [7 8 9]]\n"
     ]
    }
   ],
   "source": [
    "print(darray)"
   ]
  },
  {
   "cell_type": "code",
   "execution_count": 5,
   "id": "fc11b8b7-6e65-4e98-8d61-0392a7fb74a3",
   "metadata": {},
   "outputs": [
    {
     "name": "stdout",
     "output_type": "stream",
     "text": [
      "[[1 2 3]\n",
      " [4 5 6]\n",
      " [7 8 9]]\n"
     ]
    }
   ],
   "source": [
    "print(darray[0:3])"
   ]
  },
  {
   "cell_type": "code",
   "execution_count": 45,
   "id": "f5748d38-a619-4a8e-aacf-99f1ab29916c",
   "metadata": {},
   "outputs": [
    {
     "name": "stdout",
     "output_type": "stream",
     "text": [
      "[[1 2]\n",
      " [4 5]\n",
      " [7 8]]\n"
     ]
    }
   ],
   "source": [
    "print(darray[:,:2])"
   ]
  },
  {
   "cell_type": "code",
   "execution_count": 46,
   "id": "f9b8d86a-10c7-4b32-9e0a-1b362f865ef9",
   "metadata": {},
   "outputs": [
    {
     "name": "stdout",
     "output_type": "stream",
     "text": [
      "[[1 2 3]\n",
      " [4 5 6]]\n"
     ]
    }
   ],
   "source": [
    "print(darray[:2])"
   ]
  },
  {
   "cell_type": "markdown",
   "id": "e0d88337-2901-4826-b104-9e16ae82c8fd",
   "metadata": {},
   "source": [
    "#### Addition of array"
   ]
  },
  {
   "cell_type": "code",
   "execution_count": 47,
   "id": "4f0f2e86-db34-45e8-bf5c-7c70c0bf812d",
   "metadata": {},
   "outputs": [
    {
     "name": "stdout",
     "output_type": "stream",
     "text": [
      "[3 4 5]\n",
      "[6 7 8]\n",
      "addition of array: [ 9 11 13]\n"
     ]
    }
   ],
   "source": [
    "import numpy as np\n",
    "a1 =np.array([3,4,5])\n",
    "a2 =np.array([6,7,8])\n",
    "print(a1)\n",
    "print(a2)\n",
    "print(\"addition of array:\",a1+a2)"
   ]
  },
  {
   "cell_type": "code",
   "execution_count": 48,
   "id": "7637ad6e-15fd-4417-a548-4d109f0a62b5",
   "metadata": {},
   "outputs": [
    {
     "name": "stdout",
     "output_type": "stream",
     "text": [
      "[33 44 55]\n",
      "[6 7 8]\n",
      "substraction of array: [27 37 47]\n"
     ]
    }
   ],
   "source": [
    "a1 =np.array([33,44,55])\n",
    "a2 =np.array([6,7,8])\n",
    "print(a1)\n",
    "print(a2)\n",
    "print(\"substraction of array:\",a1-a2)"
   ]
  },
  {
   "cell_type": "code",
   "execution_count": 49,
   "id": "4132869d-081b-4d7c-b282-201bb55973dc",
   "metadata": {},
   "outputs": [
    {
     "name": "stdout",
     "output_type": "stream",
     "text": [
      "[[33 44 55]\n",
      " [ 6  7  8]]\n",
      "[[6 7 8]\n",
      " [3 8 4]]\n",
      "multilpication of array:\n",
      " [[198 308 440]\n",
      " [ 18  56  32]]\n"
     ]
    }
   ],
   "source": [
    "a1 =np.array([[33,44,55],[6,7,8]])\n",
    "a2 =np.array([[6,7,8],[3,8,4]])\n",
    "print(a1)\n",
    "print(a2)\n",
    "print(\"multilpication of array:\\n\", a1*a2)"
   ]
  },
  {
   "cell_type": "code",
   "execution_count": 50,
   "id": "042657c8-d714-4a68-ba2f-8c67a71eba05",
   "metadata": {},
   "outputs": [
    {
     "name": "stdout",
     "output_type": "stream",
     "text": [
      "[3 7 8]\n",
      "[3 7 8]\n",
      "division of array: [1. 1. 1.]\n"
     ]
    }
   ],
   "source": [
    "a1 =np.array([3,7,8])\n",
    "a2 =np.array([3,7,8])\n",
    "print(a1)\n",
    "print(a2)\n",
    "print(\"division of array:\",a1/a2)"
   ]
  },
  {
   "cell_type": "code",
   "execution_count": 51,
   "id": "ffe4825c-bcf7-4454-81de-6e10675af497",
   "metadata": {},
   "outputs": [
    {
     "name": "stdout",
     "output_type": "stream",
     "text": [
      "[[[1 2 3]\n",
      "  [4 5 6]\n",
      "  [7 8 9]]]\n"
     ]
    }
   ],
   "source": [
    "arrayy=np.array([[[1,2,3],[4,5,6],[7,8,9]]])\n",
    "print(arrayy)"
   ]
  },
  {
   "cell_type": "code",
   "execution_count": 52,
   "id": "f5f88e64-809a-4b90-9595-f57446e11afb",
   "metadata": {},
   "outputs": [
    {
     "name": "stdout",
     "output_type": "stream",
     "text": [
      "[[[1 2 3]\n",
      "  [4 5 6]\n",
      "  [7 8 9]]]\n"
     ]
    }
   ],
   "source": [
    "print(arrayy[0:1,:,:])"
   ]
  },
  {
   "cell_type": "code",
   "execution_count": 53,
   "id": "cbc576d5-3c25-462f-9911-7852b6675d6d",
   "metadata": {},
   "outputs": [
    {
     "name": "stdout",
     "output_type": "stream",
     "text": [
      "1  is odd\n",
      "2 is even\n",
      "3  is odd\n",
      "4 is even\n",
      "5  is odd\n",
      "6 is even\n",
      "7  is odd\n",
      "8 is even\n",
      "9  is odd\n",
      "10 is even\n"
     ]
    }
   ],
   "source": [
    "arr1=np.array([1,2,3,4,5,6,7,8,9,10])\n",
    "for i in arr1:\n",
    "    if i %2==0:\n",
    "        print(i,\"is even\")\n",
    "    else:\n",
    "        print(i,\" is odd\")\n",
    "        \n",
    "        "
   ]
  },
  {
   "cell_type": "markdown",
   "id": "863a1369-473f-4b0f-b15d-9b9c896633fe",
   "metadata": {},
   "source": [
    "#### sum of an array"
   ]
  },
  {
   "cell_type": "code",
   "execution_count": 54,
   "id": "67d043ef-9622-49e5-aa0c-3668da95e7ba",
   "metadata": {},
   "outputs": [
    {
     "name": "stdout",
     "output_type": "stream",
     "text": [
      "55\n"
     ]
    }
   ],
   "source": [
    "print(arr1.sum())"
   ]
  },
  {
   "cell_type": "code",
   "execution_count": 55,
   "id": "ad2c7ac0-2a5a-4137-aa1a-f959a58be0ef",
   "metadata": {},
   "outputs": [
    {
     "name": "stdout",
     "output_type": "stream",
     "text": [
      "adding 1 in 0\n",
      "adding 2 in 1\n",
      "adding 3 in 3\n",
      "adding 4 in 6\n",
      "adding 5 in 10\n",
      "adding 6 in 15\n",
      "adding 7 in 21\n",
      "adding 8 in 28\n",
      "adding 9 in 36\n",
      "adding 10 in 45\n",
      "tha final addition is  55\n"
     ]
    }
   ],
   "source": [
    "total=0\n",
    "for i in arr1:\n",
    "    print(f\"adding {i} in {total}\")\n",
    "    total=total+i\n",
    "print(\"tha final addition is \",total)    "
   ]
  },
  {
   "cell_type": "code",
   "execution_count": 56,
   "id": "caec821e-2d0d-4991-a72a-c35a7452f087",
   "metadata": {},
   "outputs": [
    {
     "name": "stdout",
     "output_type": "stream",
     "text": [
      "99 is greater\n"
     ]
    }
   ],
   "source": [
    "import numpy as np\n",
    "ar1=np.array([12,65,99,88,70])\n",
    "highest=ar1[0]\n",
    "for n in ar1:\n",
    "    if n>highest:\n",
    "        highest=n\n",
    "print(f\"{highest} is greater\")       "
   ]
  },
  {
   "cell_type": "markdown",
   "id": "3518f3cb-1dce-4ed9-9d5b-3a35f51bf161",
   "metadata": {},
   "source": [
    "#### min of an array"
   ]
  },
  {
   "cell_type": "code",
   "execution_count": 57,
   "id": "debf0f7e-a470-4058-8851-5351f60b272c",
   "metadata": {},
   "outputs": [
    {
     "name": "stdout",
     "output_type": "stream",
     "text": [
      "88\n"
     ]
    }
   ],
   "source": [
    "import numpy as np\n",
    "ar1=np.array([12,65,39,88,70])\n",
    "greater=ar1[0]\n",
    "for ele in ar1:\n",
    "    if ele >=greater:\n",
    "     greater=ele\n",
    "print(greater)"
   ]
  },
  {
   "cell_type": "code",
   "execution_count": 58,
   "id": "024b8be7-c630-4b97-879d-e5173208d437",
   "metadata": {},
   "outputs": [
    {
     "name": "stdout",
     "output_type": "stream",
     "text": [
      "12\n"
     ]
    }
   ],
   "source": [
    "min=ar1[0]\n",
    "for ele in ar1:\n",
    "    if ele <=min:\n",
    "     min=ele\n",
    "print(min)\n"
   ]
  },
  {
   "cell_type": "markdown",
   "id": "e43607a2-05f4-4cde-b66f-1d5bf261c6f8",
   "metadata": {},
   "source": [
    "#### minimum and maximum values from an array"
   ]
  },
  {
   "cell_type": "code",
   "execution_count": 59,
   "id": "5548b7ae-b8a5-475d-9577-8ddd5b1aa2d7",
   "metadata": {},
   "outputs": [
    {
     "name": "stdout",
     "output_type": "stream",
     "text": [
      "[43 33 67 88 24]\n"
     ]
    }
   ],
   "source": [
    "import numpy as np\n",
    "array1 =np.array([43,33,67,88,24])\n",
    "print(array1)"
   ]
  },
  {
   "cell_type": "code",
   "execution_count": 62,
   "id": "dbdf59c3-e5ba-4f14-86c4-c16bee24e986",
   "metadata": {},
   "outputs": [
    {
     "name": "stdout",
     "output_type": "stream",
     "text": [
      "88\n"
     ]
    }
   ],
   "source": [
    "high=array1[0]\n",
    "for element in array1:\n",
    "    if element>=high:\n",
    "        high=element\n",
    "print(high)        "
   ]
  },
  {
   "cell_type": "code",
   "execution_count": 61,
   "id": "4b52e137-2e35-47f5-9ecd-f6a89082f0d1",
   "metadata": {},
   "outputs": [
    {
     "name": "stdout",
     "output_type": "stream",
     "text": [
      "[[2 3 4]\n",
      " [6 7 8]\n",
      " [2 8 1]]\n"
     ]
    }
   ],
   "source": [
    "arrayof2=np.array([[2,3,4],[6,7,8],[2,8,1]])\n",
    "print(arrayof2)"
   ]
  },
  {
   "cell_type": "markdown",
   "id": "e3df6372-4c8f-4d34-8db3-94521cabf667",
   "metadata": {},
   "source": [
    "#### create a function to find min max of an array"
   ]
  },
  {
   "cell_type": "code",
   "execution_count": 101,
   "id": "76a60579-a7e5-4829-8e8e-3c5ebde84dc9",
   "metadata": {},
   "outputs": [
    {
     "name": "stdout",
     "output_type": "stream",
     "text": [
      "12\n"
     ]
    }
   ],
   "source": [
    "def array_max():\n",
    "    array1 =([10,12,7])\n",
    "    high=array1[0]\n",
    "    for element in array1:\n",
    "       if element > high:\n",
    "         high = element\n",
    "    print(high)  \n",
    "array_max()"
   ]
  },
  {
   "cell_type": "code",
   "execution_count": 103,
   "id": "edafaca1-df86-4dc3-aae2-d190b3719caf",
   "metadata": {},
   "outputs": [
    {
     "name": "stdout",
     "output_type": "stream",
     "text": [
      "1\n"
     ]
    }
   ],
   "source": [
    "def array_min():\n",
    "    array1 =([66,102,65,1,99])\n",
    "    lowest=array1[0]\n",
    "    for element in array1:\n",
    "       if element < lowest:\n",
    "         lowest = element\n",
    "    print(lowest)  \n",
    "array_min()"
   ]
  },
  {
   "cell_type": "code",
   "execution_count": 35,
   "id": "989764f3-2963-4f37-ad26-5969a3553726",
   "metadata": {},
   "outputs": [
    {
     "name": "stdout",
     "output_type": "stream",
     "text": [
      "happy new year\n",
      "20\n",
      "19\n",
      "18\n",
      "17\n",
      "16\n",
      "15\n",
      "14\n",
      "13\n",
      "12\n",
      "11\n",
      "10\n",
      "9\n",
      "8\n",
      "7\n",
      "6\n",
      "5\n",
      "4\n",
      "3\n",
      "2\n",
      "1\n"
     ]
    }
   ],
   "source": [
    "def countdown(i):\n",
    "    while i>0:\n",
    "        print(i)\n",
    "        i-=1\n",
    "print(\"happy new year\")   \n",
    "countdown(20)       "
   ]
  },
  {
   "cell_type": "code",
   "execution_count": 19,
   "id": "8068f074-17db-4ee2-bab7-0c1c44d1cdbc",
   "metadata": {},
   "outputs": [
    {
     "name": "stdout",
     "output_type": "stream",
     "text": [
      "weekly temperature:\n",
      "Mon:30°C\n",
      "Tue:32°C\n",
      "Wed:47°C\n",
      "Thu:40°C\n",
      "Fri:39°C\n",
      "Sat:27°C\n",
      "Sun:47°C\n",
      "\n",
      " the hottest day is Wed with 47°C\n",
      "the coldest day is Sat with 27°C\n"
     ]
    }
   ],
   "source": [
    "def weekly_days(Day,Temp):\n",
    "         print(\"weekly temperature:\")\n",
    "         for day,temp in zip(Day,Temp):\n",
    "             print(f\"{day}:{temp}\\u00B0C\")\n",
    "        \n",
    "         max_temp=max(Temp)\n",
    "         hottestday_index=Temp.index(max_temp)\n",
    "         hottest_day=Day[hottestday_index]\n",
    "         print(\"\\n\",f\"the hottest day is {hottest_day} with { max_temp}\\u00B0C\")\n",
    "         \n",
    "         min_temp=min(Temp)\n",
    "         coldestday_index=Temp.index(min_temp)\n",
    "         coldest_day=Day[coldestday_index]\n",
    "         print(f\"the coldest day is {coldest_day} with { min_temp}\\u00B0C\")\n",
    "\n",
    "Day=[\"Mon\",\"Tue\",\"Wed\",\"Thu\",\"Fri\",\"Sat\",\"Sun\"]\n",
    "Temp=[30,32,47,40,39,27,47]    \n",
    "weekly_days(Day,Temp)\n",
    "        "
   ]
  },
  {
   "cell_type": "code",
   "execution_count": 20,
   "id": "f76b08bf-6ddb-4501-84f3-c1cd06b3b8ec",
   "metadata": {},
   "outputs": [
    {
     "name": "stdout",
     "output_type": "stream",
     "text": [
      "weekely weather data: \n",
      "    Day  Temp  humidity\n",
      "0  Mon    30        70\n",
      "1  Tue    32        65\n",
      "2  Wed    47        70\n",
      "3  Thu    40        68\n",
      "4  Fri    39        72\n",
      "5  Sat    27        65\n",
      "6  Sun    47        73\n"
     ]
    },
    {
     "ename": "TypeError",
     "evalue": "'>' not supported between instances of 'int' and 'list'",
     "output_type": "error",
     "traceback": [
      "\u001b[31m---------------------------------------------------------------------------\u001b[39m",
      "\u001b[31mTypeError\u001b[39m                                 Traceback (most recent call last)",
      "\u001b[36mCell\u001b[39m\u001b[36m \u001b[39m\u001b[32mIn[20]\u001b[39m\u001b[32m, line 15\u001b[39m\n\u001b[32m     12\u001b[39m     \u001b[38;5;28mprint\u001b[39m(high)    \n\u001b[32m     13\u001b[39m \u001b[38;5;28mprint\u001b[39m(\u001b[33m\"\u001b[39m\u001b[33mweekely weather data:\u001b[39m\u001b[33m\"\u001b[39m,\u001b[33m\"\u001b[39m\u001b[38;5;130;01m\\n\u001b[39;00m\u001b[33m\"\u001b[39m,df)\n\u001b[32m---> \u001b[39m\u001b[32m15\u001b[39m \u001b[43mhottestday\u001b[49m\u001b[43m(\u001b[49m\u001b[43mweather_data\u001b[49m\u001b[43m)\u001b[49m\n",
      "\u001b[36mCell\u001b[39m\u001b[36m \u001b[39m\u001b[32mIn[20]\u001b[39m\u001b[32m, line 10\u001b[39m, in \u001b[36mhottestday\u001b[39m\u001b[34m(weather_data)\u001b[39m\n\u001b[32m      8\u001b[39m high=weather_data[\u001b[33m\"\u001b[39m\u001b[33mTemp\u001b[39m\u001b[33m\"\u001b[39m]\n\u001b[32m      9\u001b[39m \u001b[38;5;28;01mfor\u001b[39;00m ele \u001b[38;5;129;01min\u001b[39;00m weather_data[\u001b[33m\"\u001b[39m\u001b[33mTemp\u001b[39m\u001b[33m\"\u001b[39m]:\n\u001b[32m---> \u001b[39m\u001b[32m10\u001b[39m     \u001b[38;5;28;01mif\u001b[39;00m \u001b[43mele\u001b[49m\u001b[43m \u001b[49m\u001b[43m>\u001b[49m\u001b[43m \u001b[49m\u001b[43mhigh\u001b[49m:\n\u001b[32m     11\u001b[39m         high=ele\n\u001b[32m     12\u001b[39m \u001b[38;5;28mprint\u001b[39m(high)\n",
      "\u001b[31mTypeError\u001b[39m: '>' not supported between instances of 'int' and 'list'"
     ]
    }
   ],
   "source": [
    "import pandas as pd\n",
    "weather_data={\"Day\":[\"Mon\",\"Tue\",\"Wed\",\"Thu\",\"Fri\",\"Sat\",\"Sun\"],\n",
    "              \"Temp\":[30,32,47,40,39,27,47],\n",
    "              \"humidity\":[70,65,70,68,72,65,73]\n",
    "               }\n",
    "df=pd.DataFrame(weather_data)\n",
    "def hottestday(weather_data):\n",
    "    high=weather_data[\"Temp\"]\n",
    "    for ele in weather_data[\"Temp\"]:\n",
    "        if ele > high:\n",
    "            high=ele\n",
    "    print(high)    \n",
    "print(\"weekely weather data:\",\"\\n\",df)\n",
    "\n",
    "hottestday(weather_data)"
   ]
  },
  {
   "cell_type": "code",
   "execution_count": null,
   "id": "902e35be-af72-43c1-91f6-d35c6af2add0",
   "metadata": {},
   "outputs": [],
   "source": []
  }
 ],
 "metadata": {
  "kernelspec": {
   "display_name": "Python 3 (ipykernel)",
   "language": "python",
   "name": "python3"
  },
  "language_info": {
   "codemirror_mode": {
    "name": "ipython",
    "version": 3
   },
   "file_extension": ".py",
   "mimetype": "text/x-python",
   "name": "python",
   "nbconvert_exporter": "python",
   "pygments_lexer": "ipython3",
   "version": "3.13.5"
  }
 },
 "nbformat": 4,
 "nbformat_minor": 5
}
