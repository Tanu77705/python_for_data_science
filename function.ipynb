{
 "cells": [
  {
   "cell_type": "markdown",
   "id": "5a1eb140-77e0-48a4-97ed-954e92761ff8",
   "metadata": {},
   "source": [
    "### check given number is positive,negative zero"
   ]
  },
  {
   "cell_type": "code",
   "execution_count": 51,
   "id": "a5f1ab4e-fbc3-4b0d-9693-a3a73d948c4c",
   "metadata": {},
   "outputs": [
    {
     "name": "stdout",
     "output_type": "stream",
     "text": [
      "n is positive\n"
     ]
    }
   ],
   "source": [
    "def checknumber():\n",
    "    n=2\n",
    "    if n<0:\n",
    "        print(\"n is negative\")\n",
    "    elif n>0:\n",
    "        print(\"n is positive\")\n",
    "    else:\n",
    "        print(\"n is zero\")\n",
    "checknumber()        "
   ]
  },
  {
   "cell_type": "markdown",
   "id": "501f3987-6a28-4fe4-88c4-a3518cda6a04",
   "metadata": {},
   "source": [
    "### check even odd"
   ]
  },
  {
   "cell_type": "code",
   "execution_count": 5,
   "id": "759743eb-af90-463c-bf20-bd567667d355",
   "metadata": {},
   "outputs": [
    {
     "name": "stdout",
     "output_type": "stream",
     "text": [
      "a is odd number\n"
     ]
    }
   ],
   "source": [
    "def checkoddeven(a):\n",
    "    if a%2==0:\n",
    "        print(\"a is even number\")\n",
    "    else:\n",
    "        print(\"a is odd number\")\n",
    "checkoddeven(5)        "
   ]
  },
  {
   "cell_type": "markdown",
   "id": "17427d34-1698-49c8-895d-e1b36304d43b",
   "metadata": {},
   "source": [
    "### print even no bet 2 arg print in list"
   ]
  },
  {
   "cell_type": "code",
   "execution_count": 7,
   "id": "3c425064-f5d2-4f4d-8bc6-adbbf22ac813",
   "metadata": {},
   "outputs": [
    {
     "name": "stdout",
     "output_type": "stream",
     "text": [
      "even numbers: [2, 4, 6, 8, 10]\n"
     ]
    }
   ],
   "source": [
    "def number(sn,en):\n",
    "    even=[]\n",
    "    for i in range(sn,en+1):\n",
    "        if i%2==0:\n",
    "            even.append(i)\n",
    "    print(\"even numbers:\",even)\n",
    "number(1,10)            "
   ]
  },
  {
   "cell_type": "markdown",
   "id": "90e9de14-fe8e-4e17-bdfd-9b00ca3dab73",
   "metadata": {},
   "source": [
    "### using function iterate dict"
   ]
  },
  {
   "cell_type": "code",
   "execution_count": 5,
   "id": "99049cb7-7f12-42fe-bbce-cdd9a512f993",
   "metadata": {},
   "outputs": [
    {
     "name": "stdout",
     "output_type": "stream",
     "text": [
      "('english', 85)\n",
      "('maths', 98)\n",
      "('science', 78)\n"
     ]
    }
   ],
   "source": [
    "def iteratedict():\n",
    "    subject = {\"english\":85,\n",
    "                \"maths\":98,\n",
    "                \"science\":78}\n",
    "    for a in subject . items():\n",
    "          print(a)\n",
    "iteratedict()      \n"
   ]
  },
  {
   "cell_type": "code",
   "execution_count": 60,
   "id": "28aa85b0-deb5-417b-8b28-94e2f30eec55",
   "metadata": {},
   "outputs": [
    {
     "name": "stdin",
     "output_type": "stream",
     "text": [
      "enter a number 32\n"
     ]
    },
    {
     "name": "stdout",
     "output_type": "stream",
     "text": [
      "n is positive\n"
     ]
    }
   ],
   "source": [
    "def checknumber():\n",
    "    n=int(input(\"enter a number\"))\n",
    "    if n<0:\n",
    "        print(\"n is negative\")\n",
    "    elif n>0:\n",
    "        print(\"n is positive\")\n",
    "    else:\n",
    "        print(\"n is zero\")\n",
    "checknumber()        "
   ]
  },
  {
   "cell_type": "code",
   "execution_count": null,
   "id": "f6391cbf-019f-45d2-bc29-6dd9b61cb001",
   "metadata": {},
   "outputs": [],
   "source": []
  }
 ],
 "metadata": {
  "kernelspec": {
   "display_name": "Python 3 (ipykernel)",
   "language": "python",
   "name": "python3"
  },
  "language_info": {
   "codemirror_mode": {
    "name": "ipython",
    "version": 3
   },
   "file_extension": ".py",
   "mimetype": "text/x-python",
   "name": "python",
   "nbconvert_exporter": "python",
   "pygments_lexer": "ipython3",
   "version": "3.13.5"
  }
 },
 "nbformat": 4,
 "nbformat_minor": 5
}
